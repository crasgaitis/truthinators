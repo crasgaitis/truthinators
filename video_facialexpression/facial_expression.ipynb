{
 "cells": [
  {
   "cell_type": "code",
   "execution_count": null,
   "metadata": {
    "vscode": {
     "languageId": "plaintext"
    }
   },
   "outputs": [],
   "source": [
    "import cv2\n",
    "from fer import FER\n",
    "from IPython.display import display, Image, clear_output\n",
    "\n",
    "# Initialize the emotion detector\n",
    "emotion_detector = FER()\n",
    "\n",
    "def predict_emotion(frame):\n",
    "    # FER expects RGB images, convert from BGR to RGB\n",
    "    rgb_frame = cv2.cvtColor(frame, cv2.COLOR_BGR2RGB)\n",
    "    emotions = emotion_detector.detect_emotions(rgb_frame)\n",
    "    \n",
    "    # Display the most confident emotion if detected\n",
    "    for emotion in emotions:\n",
    "        box = emotion[\"box\"]\n",
    "        cv2.rectangle(frame, (box[0], box[1]), \n",
    "                      (box[0]+box[2], box[1]+box[3]), \n",
    "                      (0, 255, 0), 2)\n",
    "        \n",
    "        # Extract and display emotion text\n",
    "        emotion_text = max(emotion[\"emotions\"], key=emotion[\"emotions\"].get)\n",
    "        cv2.putText(frame, emotion_text, (box[0], box[1]-10), \n",
    "                    cv2.FONT_HERSHEY_SIMPLEX, 0.9, (36,255,12), 2)\n",
    "    return frame\n",
    "\n",
    "def show_camera():\n",
    "    cap = cv2.VideoCapture(0)\n",
    "    while True:\n",
    "        ret, frame = cap.read()\n",
    "        if not ret:\n",
    "            break\n",
    "\n",
    "        frame = predict_emotion(frame)\n",
    "        \n",
    "        # Convert frame to JPEG format for displaying in Jupyter Notebook\n",
    "        _, jpeg = cv2.imencode('.jpeg', frame)\n",
    "        clear_output(wait=True)\n",
    "        display(Image(data=jpeg.tobytes()))\n",
    "\n",
    "        # Press 'q' to quit the feed\n",
    "        if cv2.waitKey(1) & 0xFF == ord('q'):\n",
    "            break\n",
    "\n",
    "    cap.release()\n",
    "    cv2.destroyAllWindows()\n",
    "\n",
    "# Run the camera and emotion detection\n",
    "show_camera()\n"
   ]
  }
 ],
 "metadata": {
  "language_info": {
   "name": "python"
  }
 },
 "nbformat": 4,
 "nbformat_minor": 2
}
